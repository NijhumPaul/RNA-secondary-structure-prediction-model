{
 "cells": [
  {
   "cell_type": "code",
   "execution_count": 26,
   "metadata": {},
   "outputs": [],
   "source": [
    "#percentage_of_parameters: Scrap the UniProt website \n",
    "#                         and calculates the parameters of each accession ID(bp, kpbp, hp, kphp, rc, kprc)\n",
    "#protein_list_input_file: Read a CSV file, extract column 'Accession', \n",
    "#                         return parameter value of all accession IDs in a .csv file"
   ]
  },
  {
   "cell_type": "code",
   "execution_count": 27,
   "metadata": {},
   "outputs": [],
   "source": [
    "import re\n",
    "from bs4 import BeautifulSoup\n",
    "import requests\n",
    "import pandas as pd\n",
    "import urllib.request\n",
    "import re\n",
    "import logging"
   ]
  },
  {
   "cell_type": "code",
   "execution_count": 28,
   "metadata": {},
   "outputs": [
    {
     "name": "stdout",
     "output_type": "stream",
     "text": [
      "3.8.5\n"
     ]
    }
   ],
   "source": [
    "from platform import python_version\n",
    "print(python_version())"
   ]
  },
  {
   "cell_type": "code",
   "execution_count": 29,
   "metadata": {},
   "outputs": [],
   "source": [
    "'''All errors will be logged in a file named Error_logFile.txt\n",
    "It will include each error's type, name and when the error occured''' \n",
    "\n",
    "logging.basicConfig(filename=\"Error_logFile.txt\",\n",
    "                   filemode='a',\n",
    "                   format='%(asctime)s %(levelname)s-%(message)s',\n",
    "                    datefmt='%Y-%m-%d ' '%H:%M:%S')\n"
   ]
  },
  {
   "cell_type": "code",
   "execution_count": 30,
   "metadata": {},
   "outputs": [],
   "source": [
    "'''\n",
    " This function scrap the UniProt website and calculates the 6 parameters for each accession ID (accession, kpbp, hp, kphp, rc, kprc)\n",
    "  bp-> Betasheet percentage\n",
    "  kpbp-> known partial betasheet percentage\n",
    "  hp-> helix percentage\n",
    "  kphp-> known partial helix percentage\n",
    "  rc-> random coil percentage\n",
    "  kprc-> known partial random coil percentage\n",
    "  Input is accession ID, i.e. P35579\n",
    "  Output is a tuple of 7 items (accession,bp, kpbp, hp, kphp, rc, kprc) of each accession ID'''\n",
    "\n",
    "def percentage_of_parameters(accession):\n",
    "    try:\n",
    "        url_old=\"https://www.uniprot.org/uniprot/accession\" \n",
    "        url_new=re.sub(\"accession\", accession, url_old)\n",
    "        headers = {\n",
    "            'Access-Control-Allow-Origin': '*',\n",
    "            'Access-Control-Allow-Methods': 'GET',\n",
    "            'Access-Control-Allow-Headers': 'Content-Type',\n",
    "            'Access-Control-Max-Age': '3600',\n",
    "            'User-Agent': 'Mozilla/5.0 (X11; Ubuntu; Linux x86_64; rv:52.0) Gecko/20100101 Firefox/52.0'\n",
    "            }\n",
    "        req = requests.get(url_new, headers)\n",
    "        soup = BeautifulSoup(req.content, 'html.parser')\n",
    "        #sec_structure = soup.find(\"div\", {\"id\": \"secondarystructure\"})\n",
    "        sec_structure = soup.find_all('text')[1]\n",
    "        total_length = int(sec_structure.string)\n",
    "        sec_table = soup.find_all('table', class_='featureTable', id=\"secstructure_section\")\n",
    "        each_feature_length_list = []\n",
    "        feature_names_list = []\n",
    "        for features in sec_table:\n",
    "            rows = features.find_all('tr', class_='feature_row')\n",
    "            for row in rows:\n",
    "                feature_key = str(row.select_one('td').text)\n",
    "                fts = re.sub(\".*>\", \"\", feature_key).strip()\n",
    "                feature_names_list.append(str(fts))\n",
    "                length = row.find('td', class_='featlength numeric').text\n",
    "                each_feature_length_list.append(int(length))\n",
    "        sum_all_features_length = sum(each_feature_length_list)\n",
    "        df = pd.DataFrame(list(zip(feature_names_list, each_feature_length_list)),\n",
    "                    columns =['feature_names_list', 'each_feature_length_list'])\n",
    "        beta = df.loc[df['feature_names_list'] == 'Beta strandi', 'each_feature_length_list'].sum()\n",
    "        bp = (beta/sum(each_feature_length_list))*100\n",
    "        kpbp = (beta/total_length)*100\n",
    "        alpha_helix = df.loc[df['feature_names_list'] == 'Helixi', 'each_feature_length_list'].sum()\n",
    "        hp = (alpha_helix/sum(each_feature_length_list))*100\n",
    "        kphp = (alpha_helix/total_length)*100\n",
    "        random_coil = df.loc[df['feature_names_list'] == 'Turni', 'each_feature_length_list'].sum()\n",
    "        rp = (random_coil/sum(each_feature_length_list))*100\n",
    "        kprp = (random_coil/total_length)*100\n",
    "        return accession, bp, kpbp, hp, kphp, rp, kprp\n",
    "        \n",
    "    except Exception as e:\n",
    "        logging.error(e)\n",
    "        bp = (float(\"nan\"))\n",
    "        kpbp = (float(\"nan\"))\n",
    "        hp = (float(\"nan\"))\n",
    "        kphp = (float(\"nan\"))\n",
    "        rp = (float(\"nan\"))\n",
    "        kprp = (float(\"nan\"))\n",
    "        return accession, bp, kpbp, hp, kphp, rp, kprp"
   ]
  },
  {
   "cell_type": "code",
   "execution_count": 34,
   "metadata": {},
   "outputs": [],
   "source": [
    "'''This function reads a CSV file and \n",
    "  extracts the column: Accession\n",
    "  Returns a dataframe and a csv file containing all accession IDs and their corresponding parameters\n",
    "  '''\n",
    "def protein_list_input_file(file_name):\n",
    "    try:\n",
    "        parameters_list = []\n",
    "        file = pd.read_csv(file_name)\n",
    "        accession_clm = list(file[\"Accession\"])\n",
    "        for accesion_id in accession_clm:\n",
    "            result = percentage_of_parameters(accesion_id)\n",
    "            parameters_list.append(result)\n",
    "        parameters_in_dataframe = pd.DataFrame(parameters_list, columns=['Accession', 'bp', 'kpbp', 'hp', 'kphp', 'rp', 'kprp'])\n",
    "        #parameters_in_dataframe.to_csv(\"parameters_in_dataframe.csv\")\n",
    "        #print(parameters_in_dataframe)\n",
    "        return parameters_in_dataframe.to_csv(\"Parameters_in_dataframe.csv\", na_rep='NA')\n",
    "\n",
    "    except Exception as e:\n",
    "        logging.error(e)\n",
    "        print(e)\n"
   ]
  },
  {
   "cell_type": "code",
   "execution_count": 35,
   "metadata": {},
   "outputs": [],
   "source": [
    "protein_list_input_file(\"./MC3_BB6.csv\")"
   ]
  },
  {
   "cell_type": "code",
   "execution_count": null,
   "metadata": {},
   "outputs": [],
   "source": []
  }
 ],
 "metadata": {
  "kernelspec": {
   "display_name": "Python 3 (ipykernel)",
   "language": "python",
   "name": "python3"
  },
  "language_info": {
   "codemirror_mode": {
    "name": "ipython",
    "version": 3
   },
   "file_extension": ".py",
   "mimetype": "text/x-python",
   "name": "python",
   "nbconvert_exporter": "python",
   "pygments_lexer": "ipython3",
   "version": "3.9.7"
  }
 },
 "nbformat": 4,
 "nbformat_minor": 4
}
